{
 "cells": [
  {
   "cell_type": "code",
   "execution_count": 2,
   "id": "98a50c7c-2ef5-4645-a427-42c12fdfeb72",
   "metadata": {},
   "outputs": [
    {
     "name": "stdin",
     "output_type": "stream",
     "text": [
      "enter first number: 8\n",
      "enter second number: 5\n"
     ]
    },
    {
     "name": "stdout",
     "output_type": "stream",
     "text": [
      "addition 13\n",
      "subtraction 3\n",
      "multiplication 40\n",
      "division 1.6\n"
     ]
    }
   ],
   "source": [
    "#perform some basic mathematical operation\n",
    "a= int(input(\"enter first number:\"))\n",
    "b=int(input(\"enter second number:\"))\n",
    "print(\"addition\",a+b)\n",
    "print(\"subtraction\",a-b)\n",
    "print(\"multiplication\",a*b)\n",
    "print(\"division\",a/b)"
   ]
  },
  {
   "cell_type": "code",
   "execution_count": null,
   "id": "5debc8b7-bed6-4aca-ac09-2f186f72e9f7",
   "metadata": {},
   "outputs": [],
   "source": []
  }
 ],
 "metadata": {
  "kernelspec": {
   "display_name": "Python 3 (ipykernel)",
   "language": "python",
   "name": "python3"
  },
  "language_info": {
   "codemirror_mode": {
    "name": "ipython",
    "version": 3
   },
   "file_extension": ".py",
   "mimetype": "text/x-python",
   "name": "python",
   "nbconvert_exporter": "python",
   "pygments_lexer": "ipython3",
   "version": "3.13.5"
  }
 },
 "nbformat": 4,
 "nbformat_minor": 5
}
