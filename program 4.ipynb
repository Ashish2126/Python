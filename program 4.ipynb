{
 "cells": [
  {
   "cell_type": "code",
   "execution_count": null,
   "id": "cb66d2fe-d76b-450a-ad47-d02e54103a9a",
   "metadata": {},
   "outputs": [],
   "source": [
    "# sum of integer 1 to 50 using loop\n",
    "n=0\n",
    "for i in range (1,51):\n",
    " n+=i\n",
    "print(\"the sum of digit 1to50 is:\",n)"
   ]
  },
  {
   "cell_type": "code",
   "execution_count": null,
   "id": "8025bf7c",
   "metadata": {},
   "outputs": [],
   "source": []
  },
  {
   "cell_type": "code",
   "execution_count": null,
   "id": "0a5b25c5",
   "metadata": {},
   "outputs": [],
   "source": []
  }
 ],
 "metadata": {
  "kernelspec": {
   "display_name": "Python 3",
   "language": "python",
   "name": "python3"
  },
  "language_info": {
   "codemirror_mode": {
    "name": "ipython",
    "version": 3
   },
   "file_extension": ".py",
   "mimetype": "text/x-python",
   "name": "python",
   "nbconvert_exporter": "python",
   "pygments_lexer": "ipython3",
   "version": "3.13.7"
  }
 },
 "nbformat": 4,
 "nbformat_minor": 5
}
