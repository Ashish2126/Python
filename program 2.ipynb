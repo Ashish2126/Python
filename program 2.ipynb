{
 "cells": [
  {
   "cell_type": "code",
   "execution_count": 2,
   "id": "b23f3d2c-a306-4449-b6b6-657c3f35a2ba",
   "metadata": {},
   "outputs": [
    {
     "name": "stdin",
     "output_type": "stream",
     "text": [
      "Enter your first name: ashish\n",
      "enter your second name: sharma\n"
     ]
    },
    {
     "name": "stdout",
     "output_type": "stream",
     "text": [
      "/nHello,ashishsharma! welcome to the python program\n"
     ]
    }
   ],
   "source": [
    "#create a personlized greeting\n",
    "a=input(\"Enter your first name:\")\n",
    "b=input(\"enter your second name:\")\n",
    "c=a+\"\"+b\n",
    "print(f\"/nHello,{c}! welcome to the python program\")\n"
   ]
  },
  {
   "cell_type": "code",
   "execution_count": null,
   "id": "2e9e7890-c0fa-4864-8e0b-de9f132b34ea",
   "metadata": {},
   "outputs": [],
   "source": []
  }
 ],
 "metadata": {
  "kernelspec": {
   "display_name": "Python 3 (ipykernel)",
   "language": "python",
   "name": "python3"
  },
  "language_info": {
   "codemirror_mode": {
    "name": "ipython",
    "version": 3
   },
   "file_extension": ".py",
   "mimetype": "text/x-python",
   "name": "python",
   "nbconvert_exporter": "python",
   "pygments_lexer": "ipython3",
   "version": "3.13.5"
  }
 },
 "nbformat": 4,
 "nbformat_minor": 5
}
