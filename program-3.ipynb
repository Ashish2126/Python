{
 "cells": [
  {
   "cell_type": "code",
   "execution_count": 8,
   "id": "84a42574-ed97-498e-a761-2d30a0af07fa",
   "metadata": {},
   "outputs": [
    {
     "name": "stdin",
     "output_type": "stream",
     "text": [
      "Enter a number: 7\n"
     ]
    },
    {
     "name": "stdout",
     "output_type": "stream",
     "text": [
      "7 is an odd number\n"
     ]
    }
   ],
   "source": [
    "#check if a number is even or odd\n",
    "n= int(input(\"Enter a number:\"))\n",
    "if (n%2 ==0):\n",
    "    print(n,\"is an even number\")\n",
    "else:\n",
    "    print(n,\"is an odd number\")\n",
    "    \n",
    "        \n",
    "       \n",
    "             "
   ]
  },
  {
   "cell_type": "code",
   "execution_count": null,
   "id": "f6a5cdf9-c84d-48b0-8bf8-4d27b555805f",
   "metadata": {},
   "outputs": [],
   "source": []
  }
 ],
 "metadata": {
  "kernelspec": {
   "display_name": "Python 3 (ipykernel)",
   "language": "python",
   "name": "python3"
  },
  "language_info": {
   "codemirror_mode": {
    "name": "ipython",
    "version": 3
   },
   "file_extension": ".py",
   "mimetype": "text/x-python",
   "name": "python",
   "nbconvert_exporter": "python",
   "pygments_lexer": "ipython3",
   "version": "3.13.5"
  }
 },
 "nbformat": 4,
 "nbformat_minor": 5
}
